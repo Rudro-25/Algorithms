{
  "nbformat": 4,
  "nbformat_minor": 0,
  "metadata": {
    "colab": {
      "name": "Copy of Welcome To Colaboratory",
      "provenance": [],
      "collapsed_sections": [],
      "toc_visible": true
    },
    "kernelspec": {
      "display_name": "Python 3",
      "name": "python3"
    }
  },
  "cells": [
    {
      "cell_type": "markdown",
      "metadata": {
        "colab_type": "text",
        "id": "5fCEDCU_qrC0"
      },
      "source": [
        "<p><img alt=\"Colaboratory logo\" height=\"45px\" src=\"/img/colab_favicon.ico\" align=\"left\" hspace=\"10px\" vspace=\"0px\"></p>\n",
        "\n",
        "<h1>Welcome to Colaboratory!</h1>\n",
        "\n",
        "\n",
        "Colaboratory is a free Jupyter notebook environment that requires no setup and runs entirely in the cloud.\n",
        "\n",
        "With Colaboratory you can write and execute code, save and share your analyses, and access powerful computing resources, all for free from your browser."
      ]
    },
    {
      "cell_type": "code",
      "metadata": {
        "id": "MnObLatgx4Q2",
        "colab_type": "code",
        "colab": {}
      },
      "source": [
        "\n",
        "\n",
        "def insertionSort(A):\n",
        "  length=len(A)\n",
        "\n",
        "  for j in range(1,length):\n",
        "    key=A[j]\n",
        "    i=j-1\n",
        "    while i>-1 and A[i]>key:\n",
        "      A[i+1]=A[i]\n",
        "      i=i-1\n",
        "    A[i+1]=key\n",
        "\n",
        "  print(A)\n",
        "\n",
        "\n",
        "\n",
        "  # write down the algo of selection sort\n",
        "def selectionSort(A):  \n",
        "  for i in range(len(A)): \n",
        "      \n",
        "    # Find the minimum element in remaining  \n",
        "    # unsorted array \n",
        "    min_idx = i \n",
        "    for j in range(i+1, len(A)): \n",
        "        if A[min_idx] > A[j]: \n",
        "            min_idx = j \n",
        "              \n",
        "    # Swap the found minimum element with  \n",
        "    # the first element         \n",
        "    A[i], A[min_idx] = A[min_idx], A[i] \n",
        "\n",
        "  print(A)\n",
        "\n",
        "\n",
        "\n",
        "  # write down the algo of bubble sort\n",
        "def bubbleSort(A):\n",
        "    n = len(A)\n",
        " \n",
        "    # Traverse through all array elements\n",
        "    for i in range(n):\n",
        " \n",
        "        # Last i elements are already in place\n",
        "        for j in range(0, n-i-1):\n",
        " \n",
        "            # traverse the array from 0 to n-i-1\n",
        "            # Swap if the element found is greater\n",
        "            # than the next element\n",
        "            if A[j] > A[j+1] :\n",
        "                A[j], A[j+1] = A[j+1], A[j]\n",
        "\n",
        "\n",
        "print(A)  \n",
        "\n",
        "\n",
        "  # write down the algo of merge sort\n",
        "def mergeSort(A): \n",
        "\tif len(A) >1: \n",
        "\t\tmid = len(A)//2 \n",
        "\t\tL = A[:mid] \n",
        "\t\tR = A[mid:] \n",
        "\n",
        "\t\tmergeSort(L)\n",
        "\t\tmergeSort(R) \n",
        "\t\ti = j = k = 0\n",
        "\t\t\n",
        "\t\twhile i < len(L) and j < len(R): \n",
        "\t\t\tif L[i] < R[j]: \n",
        "\t\t\t\tA[k] = L[i] \n",
        "\t\t\t\ti+=1\n",
        "\t\t\telse: \n",
        "\t\t\t\tA[k] = R[j] \n",
        "\t\t\t\tj+=1\n",
        "\t\t\tk+=1\n",
        "\t\t\n",
        "\t\t\n",
        "\t\twhile i < len(L): \n",
        "\t\t\tA[k] = L[i] \n",
        "\t\t\ti+=1\n",
        "\t\t\tk+=1\n",
        "\t\t\n",
        "\t\twhile j < len(R): \n",
        "\t\t\tA[k] = R[j] \n",
        "\t\t\tj+=1\n",
        "\t\t\tk+=1\n",
        "\n",
        "print(A)\n",
        "\n",
        "\n",
        "#def countingSort(A):\n",
        "  # write down the algo of counting sort\n",
        "def counting_sort(array1, max_val):\n",
        "    m = max_val + 1\n",
        "    count = [0] * m                \n",
        "    \n",
        "    for a in array1:\n",
        "    # count occurences\n",
        "        count[a] += 1             \n",
        "    i = 0\n",
        "    for a in range(m):            \n",
        "        for c in range(count[a]):  \n",
        "            array1[i] = a\n",
        "            i += 1\n",
        "    return array1\n",
        "\n",
        "print(A)\n",
        "\n",
        "\n",
        "A=[12,1,23,4,34,11,49]\n",
        "insertionSort(A)\n",
        "selectionSort(A)\n",
        "bubbleSort(A)\n",
        "mergeSort(A)\n",
        "counting_sort(A,49)\n",
        "\n"
      ],
      "execution_count": 0,
      "outputs": []
    },
    {
      "cell_type": "code",
      "metadata": {
        "colab_type": "code",
        "id": "xitplqMNk_Hc",
        "outputId": "ed4f60d2-878d-4056-c438-352dac39a112",
        "colab": {
          "height": 420
        }
      },
      "source": [
        "#@title Introducing Colaboratory { display-mode: \"form\" }\n",
        "#@markdown This 3-minute video gives an overview of the key features of Colaboratory:\n",
        "from IPython.display import YouTubeVideo\n",
        "YouTubeVideo('inN8seMm7UI', width=600, height=400)"
      ],
      "execution_count": 0,
      "outputs": [
        {
          "output_type": "execute_result",
          "data": {
            "text/html": [
              "\n",
              "        <iframe\n",
              "            width=\"600\"\n",
              "            height=\"400\"\n",
              "            src=\"https://www.youtube.com/embed/inN8seMm7UI\"\n",
              "            frameborder=\"0\"\n",
              "            allowfullscreen\n",
              "        ></iframe>\n",
              "        "
            ],
            "text/plain": [
              "<IPython.lib.display.YouTubeVideo at 0x7f956e9dda50>"
            ]
          },
          "metadata": {
            "tags": []
          },
          "execution_count": 0
        }
      ]
    },
    {
      "cell_type": "markdown",
      "metadata": {
        "colab_type": "text",
        "id": "GJBs_flRovLc"
      },
      "source": [
        "## Getting Started\n",
        "\n",
        "The document you are reading is a  [Jupyter notebook](https://jupyter.org/), hosted in Colaboratory. It is not a static page, but an interactive environment that lets you write and execute code in Python and other languages.\n",
        "\n",
        "For example, here is a **code cell** with a short Python script that computes a value, stores it in a variable, and prints the result:"
      ]
    },
    {
      "cell_type": "code",
      "metadata": {
        "colab_type": "code",
        "id": "gJr_9dXGpJ05",
        "outputId": "5626194c-e802-4293-942d-2908885c3c1f",
        "colab": {
          "height": 35
        }
      },
      "source": [
        "seconds_in_a_day = 24 * 60 * 60\n",
        "seconds_in_a_day"
      ],
      "execution_count": 0,
      "outputs": [
        {
          "output_type": "execute_result",
          "data": {
            "text/plain": [
              "86400"
            ]
          },
          "metadata": {
            "tags": []
          },
          "execution_count": 0
        }
      ]
    },
    {
      "cell_type": "markdown",
      "metadata": {
        "colab_type": "text",
        "id": "2fhs6GZ4qFMx"
      },
      "source": [
        "To execute the code in the above cell, select it with a click and then either press the play button to the left of the code, or use the keyboard shortcut \"Command/Ctrl+Enter\".\n",
        "\n",
        "All cells modify the same global state, so variables that you define by executing a cell can be used in other cells:"
      ]
    },
    {
      "cell_type": "code",
      "metadata": {
        "colab_type": "code",
        "id": "-gE-Ez1qtyIA",
        "outputId": "8d2e4259-4682-4e19-b683-7b9087f28820",
        "colab": {
          "height": 35
        }
      },
      "source": [
        "seconds_in_a_week = 7 * seconds_in_a_day\n",
        "seconds_in_a_week"
      ],
      "execution_count": 0,
      "outputs": [
        {
          "output_type": "execute_result",
          "data": {
            "text/plain": [
              "604800"
            ]
          },
          "metadata": {
            "tags": []
          },
          "execution_count": 0
        }
      ]
    },
    {
      "cell_type": "markdown",
      "metadata": {
        "colab_type": "text",
        "id": "lSrWNr3MuFUS"
      },
      "source": [
        "For more information about working with Colaboratory notebooks, see [Overview of Colaboratory](/notebooks/basic_features_overview.ipynb).\n"
      ]
    },
    {
      "cell_type": "markdown",
      "metadata": {
        "colab_type": "text",
        "id": "-Rh3-Vt9Nev9"
      },
      "source": [
        "## More Resources\n",
        "\n",
        "Learn how to make the most of Python, Jupyter, Colaboratory, and related tools with these resources:\n",
        "\n",
        "### Working with Notebooks in Colaboratory\n",
        "- [Overview of Colaboratory](/notebooks/basic_features_overview.ipynb)\n",
        "- [Guide to Markdown](/notebooks/markdown_guide.ipynb)\n",
        "- [Importing libraries and installing dependencies](/notebooks/snippets/importing_libraries.ipynb)\n",
        "- [Saving and loading notebooks in GitHub](https://colab.research.google.com/github/googlecolab/colabtools/blob/master/notebooks/colab-github-demo.ipynb)\n",
        "- [Interactive forms](/notebooks/forms.ipynb)\n",
        "- [Interactive widgets](/notebooks/widgets.ipynb)\n",
        "- <img src=\"/img/new.png\" height=\"20px\" align=\"left\" hspace=\"4px\" alt=\"New\"></img>\n",
        " [TensorFlow 2 in Colab](/notebooks/tensorflow_version.ipynb)\n",
        "\n",
        "### Working with Data\n",
        "- [Loading data: Drive, Sheets, and Google Cloud Storage](/notebooks/io.ipynb) \n",
        "- [Charts: visualizing data](/notebooks/charts.ipynb)\n",
        "- [Getting started with BigQuery](/notebooks/bigquery.ipynb)\n",
        "\n",
        "### Machine Learning Crash Course\n",
        "These are a few of the notebooks from Google's online Machine Learning course. See the [full course website](https://developers.google.com/machine-learning/crash-course/) for more.\n",
        "- [Intro to Pandas](/notebooks/mlcc/intro_to_pandas.ipynb)\n",
        "- [Tensorflow concepts](/notebooks/mlcc/tensorflow_programming_concepts.ipynb)\n",
        "- [First steps with TensorFlow](/notebooks/mlcc/first_steps_with_tensor_flow.ipynb)\n",
        "- [Intro to neural nets](/notebooks/mlcc/intro_to_neural_nets.ipynb)\n",
        "- [Intro to sparse data and embeddings](/notebooks/mlcc/intro_to_sparse_data_and_embeddings.ipynb)\n",
        "\n",
        "### Using Accelerated Hardware\n",
        "- [TensorFlow with GPUs](/notebooks/gpu.ipynb)\n",
        "- [TensorFlow with TPUs](/notebooks/tpu.ipynb)"
      ]
    },
    {
      "cell_type": "markdown",
      "metadata": {
        "colab_type": "text",
        "id": "P-H6Lw1vyNNd"
      },
      "source": [
        "## Machine Learning Examples: Seedbank\n",
        "\n",
        "To see end-to-end examples of the interactive machine learning analyses that Colaboratory makes possible, check out the [Seedbank](https://research.google.com/seedbank/) project.\n",
        "\n",
        "A few featured examples:\n",
        "\n",
        "- [Neural Style Transfer](https://research.google.com/seedbank/seed/neural_style_transfer_with_tfkeras): Use deep learning to transfer style between images.\n",
        "- [EZ NSynth](https://research.google.com/seedbank/seed/ez_nsynth): Synthesize audio with WaveNet auto-encoders.\n",
        "- [Fashion MNIST with Keras and TPUs](https://research.google.com/seedbank/seed/fashion_mnist_with_keras_and_tpus): Classify fashion-related images with deep learning.\n",
        "- [DeepDream](https://research.google.com/seedbank/seed/deepdream): Produce DeepDream images from your own photos.\n",
        "- [Convolutional VAE](https://research.google.com/seedbank/seed/convolutional_vae): Create a generative model of handwritten digits."
      ]
    },
    {
      "cell_type": "code",
      "metadata": {
        "id": "DkuymcU94O3m",
        "colab_type": "code",
        "outputId": "f394dfcf-16ae-40aa-b01c-93bda041b88e",
        "colab": {
          "base_uri": "https://localhost:8080/",
          "height": 118
        }
      },
      "source": [
        "\n",
        "\n",
        "def insertionSort(A):\n",
        "  length=len(A)\n",
        "\n",
        "  for j in range(1,length):\n",
        "    key=A[j]\n",
        "    i=j-1\n",
        "    while i>-1 and A[i]>key:\n",
        "      A[i+1]=A[i]\n",
        "      i=i-1\n",
        "    A[i+1]=key\n",
        "\n",
        "  print(A)\n",
        "\n",
        "\n",
        "\n",
        "  # write down the algo of selection sort\n",
        "def selectionSort(A):  \n",
        "  for i in range(len(A)): \n",
        "      \n",
        "    # Find the minimum element in remaining  \n",
        "    # unsorted array \n",
        "    min_idx = i \n",
        "    for j in range(i+1, len(A)): \n",
        "        if A[min_idx] > A[j]: \n",
        "            min_idx = j \n",
        "              \n",
        "    # Swap the found minimum element with  \n",
        "    # the first element         \n",
        "    A[i], A[min_idx] = A[min_idx], A[i] \n",
        "\n",
        "  print(A)\n",
        "\n",
        "\n",
        "\n",
        "  # write down the algo of bubble sort\n",
        "def bubbleSort(A):\n",
        "    n = len(A)\n",
        " \n",
        "    # Traverse through all array elements\n",
        "    for i in range(n):\n",
        " \n",
        "        # Last i elements are already in place\n",
        "        for j in range(0, n-i-1):\n",
        " \n",
        "            # traverse the array from 0 to n-i-1\n",
        "            # Swap if the element found is greater\n",
        "            # than the next element\n",
        "            if A[j] > A[j+1] :\n",
        "                A[j], A[j+1] = A[j+1], A[j]\n",
        "\n",
        "\n",
        "print(A)  \n",
        "\n",
        "\n",
        "  # write down the algo of merge sort\n",
        "def mergeSort(A): \n",
        "\tif len(A) >1: \n",
        "\t\tmid = len(A)//2 \n",
        "\t\tL = A[:mid] \n",
        "\t\tR = A[mid:] \n",
        "\n",
        "\t\tmergeSort(L)\n",
        "\t\tmergeSort(R) \n",
        "\t\ti = j = k = 0\n",
        "\t\t\n",
        "\t\twhile i < len(L) and j < len(R): \n",
        "\t\t\tif L[i] < R[j]: \n",
        "\t\t\t\tA[k] = L[i] \n",
        "\t\t\t\ti+=1\n",
        "\t\t\telse: \n",
        "\t\t\t\tA[k] = R[j] \n",
        "\t\t\t\tj+=1\n",
        "\t\t\tk+=1\n",
        "\t\t\n",
        "\t\t\n",
        "\t\twhile i < len(L): \n",
        "\t\t\tA[k] = L[i] \n",
        "\t\t\ti+=1\n",
        "\t\t\tk+=1\n",
        "\t\t\n",
        "\t\twhile j < len(R): \n",
        "\t\t\tA[k] = R[j] \n",
        "\t\t\tj+=1\n",
        "\t\t\tk+=1\n",
        "\n",
        "print(A)\n",
        "\n",
        "\n",
        "#def countingSort(A):\n",
        "  # write down the algo of counting sort\n",
        "def counting_sort(array1, max_val):\n",
        "    m = max_val + 1\n",
        "    count = [0] * m                \n",
        "    \n",
        "    for a in array1:\n",
        "    # count occurences\n",
        "        count[a] += 1             \n",
        "    i = 0\n",
        "    for a in range(m):            \n",
        "        for c in range(count[a]):  \n",
        "            array1[i] = a\n",
        "            i += 1\n",
        "    return array1\n",
        "\n",
        "print(A)\n",
        "\n",
        "\n",
        "A=[12,1,23,4,34,11,49]\n",
        "insertionSort(A)\n",
        "selectionSort(A)\n",
        "bubbleSort(A)\n",
        "mergeSort(A)\n",
        "counting_sort(A,49)\n",
        "\n"
      ],
      "execution_count": 0,
      "outputs": [
        {
          "output_type": "stream",
          "text": [
            "[1, 4, 11, 12, 23, 34, 49]\n",
            "[1, 4, 11, 12, 23, 34, 49]\n",
            "[1, 4, 11, 12, 23, 34, 49]\n",
            "[1, 4, 11, 12, 23, 34, 49]\n",
            "[1, 4, 11, 12, 23, 34, 49]\n"
          ],
          "name": "stdout"
        },
        {
          "output_type": "execute_result",
          "data": {
            "text/plain": [
              "[1, 4, 11, 12, 23, 34, 49]"
            ]
          },
          "metadata": {
            "tags": []
          },
          "execution_count": 82
        }
      ]
    }
  ]
}