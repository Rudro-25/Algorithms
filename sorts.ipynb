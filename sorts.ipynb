

def insertionSort(A):
  length=len(A)

  for j in range(1,length):
    key=A[j]
    i=j-1
    while i>-1 and A[i]>key:
      A[i+1]=A[i]
      i=i-1
    A[i+1]=key

  print(A)



  # write down the algo of selection sort
def selectionSort(A):  
  for i in range(len(A)): 
      
    # Find the minimum element in remaining  
    # unsorted array 
    min_idx = i 
    for j in range(i+1, len(A)): 
        if A[min_idx] > A[j]: 
            min_idx = j 
              
    # Swap the found minimum element with  
    # the first element         
    A[i], A[min_idx] = A[min_idx], A[i] 

  print(A)



  # write down the algo of bubble sort
def bubbleSort(A):
    n = len(A)
 
    # Traverse through all array elements
    for i in range(n):
 
        # Last i elements are already in place
        for j in range(0, n-i-1):
 
            # traverse the array from 0 to n-i-1
            # Swap if the element found is greater
            # than the next element
            if A[j] > A[j+1] :
                A[j], A[j+1] = A[j+1], A[j]


print(A)  


  # write down the algo of merge sort
def mergeSort(A): 
	if len(A) >1: 
		mid = len(A)//2 
		L = A[:mid] 
		R = A[mid:] 

		mergeSort(L)
		mergeSort(R) 
		i = j = k = 0
		
		while i < len(L) and j < len(R): 
			if L[i] < R[j]: 
				A[k] = L[i] 
				i+=1
			else: 
				A[k] = R[j] 
				j+=1
			k+=1
		
		
		while i < len(L): 
			A[k] = L[i] 
			i+=1
			k+=1
		
		while j < len(R): 
			A[k] = R[j] 
			j+=1
			k+=1

print(A)


#def countingSort(A):
  # write down the algo of counting sort
def counting_sort(array1, max_val):
    m = max_val + 1
    count = [0] * m                
    
    for a in array1:
    # count occurences
        count[a] += 1             
    i = 0
    for a in range(m):            
        for c in range(count[a]):  
            array1[i] = a
            i += 1
    return array1

print(A)


A=[12,1,23,4,34,11,49]
insertionSort(A)
selectionSort(A)
bubbleSort(A)
mergeSort(A)
counting_sort(A,49)

